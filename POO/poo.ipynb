{
 "cells": [
  {
   "cell_type": "code",
   "execution_count": 1,
   "metadata": {},
   "outputs": [],
   "source": [
    "class Auto:  # el nombre de la clase tiene que ser el mismo en el archivo \n",
    "    # __init__ tinen self como primer argumnto de la instancia clase auto\n",
    "    def __init__(self,marca,year): # en el () va los atributos de esa clase , es decir , los argumentos \n",
    "        self.marca = marca\n",
    "        self.year = year # atributo de la instancia\n",
    "        \n",
    "    def mostrar_valor(self): # metodo instancia son los que acceden y modifical el valor de un atributo\n",
    "        print(f'El valor es {self.year}')\n"
   ]
  },
  {
   "cell_type": "code",
   "execution_count": 2,
   "metadata": {},
   "outputs": [
    {
     "name": "stdout",
     "output_type": "stream",
     "text": [
      "<__main__.Auto object at 0x000002558361A870>\n",
      "0x2558361a870\n",
      "Ford\n",
      "2023\n"
     ]
    }
   ],
   "source": [
    "ford =Auto(\"Ford\", 2023)\n",
    "print(ford) #Indica de qué clase se instanció  y su memoria hezadecimal\n",
    "print(hex(id(ford))) \n",
    "print(ford.marca) # Juana\n",
    "print(ford.year) "
   ]
  },
  {
   "cell_type": "code",
   "execution_count": 4,
   "metadata": {},
   "outputs": [
    {
     "name": "stdout",
     "output_type": "stream",
     "text": [
      "El valor es 10\n"
     ]
    }
   ],
   "source": [
    "obj = Auto('da',10)\n",
    "obj.mostrar_valor()"
   ]
  },
  {
   "cell_type": "markdown",
   "metadata": {},
   "source": [
    "## Ejercico 1"
   ]
  },
  {
   "cell_type": "markdown",
   "metadata": {},
   "source": [
    "Implemente la clase Lamparita, que sirva para representar el estado de encendido\n",
    "de una lamparita (encendido o apagado). Defina, asimismo, dos métodos que\n",
    "permitan encender y apagar la luz de la lamparita y otro que indique en qué\n",
    "estado se encuentra. La lamparita inicialmente está apagada"
   ]
  },
  {
   "cell_type": "code",
   "execution_count": 1,
   "metadata": {},
   "outputs": [
    {
     "name": "stdout",
     "output_type": "stream",
     "text": [
      "Apagada\n",
      "Encendida\n",
      "Apagada\n"
     ]
    }
   ],
   "source": [
    "class Lamparita:\n",
    "    def __init__(self):\n",
    "        \"\"\"Inicializa la lamparita en estado apagado.\"\"\"\n",
    "        self.encendida = 0  # 0 representa apagado, 1 representa encendido\n",
    "    \n",
    "    def cambiar_estado(self):\n",
    "        \"\"\"Cambia el estado de la lamparita entre encendido (1) y apagado (0).\"\"\"\n",
    "        self.encendida = 1 if self.encendida == 0 else 0\n",
    "    \n",
    "    def estado(self):\n",
    "        \"\"\"Devuelve el estado actual de la lamparita.\"\"\"\n",
    "        return \"Encendida\" if self.encendida == 1 else \"Apagada\"\n",
    "\n",
    "# Ejemplo de uso:\n",
    "lampara = Lamparita()\n",
    "print(lampara.estado())  # Apagada\n",
    "lampara.cambiar_estado()\n",
    "print(lampara.estado())  # Encendida\n",
    "lampara.cambiar_estado()\n",
    "print(lampara.estado())  # Apagada"
   ]
  },
  {
   "cell_type": "code",
   "execution_count": 2,
   "metadata": {},
   "outputs": [
    {
     "name": "stdout",
     "output_type": "stream",
     "text": [
      "Apagada\n",
      "Encendida\n",
      "Apagada\n"
     ]
    }
   ],
   "source": [
    "class Lamparita:\n",
    "    def __init__(self):\n",
    "        \"\"\"Inicializa la lamparita en estado apagado.\"\"\"\n",
    "        self.encendida = 0  # 0 representa apagado, 1 representa encendido\n",
    "    \n",
    "    def set_estado(self, estado):\n",
    "        \"\"\"Establece el estado de la lamparita a encendido (1) o apagado (0).\"\"\"\n",
    "        if estado in [0, 1]:\n",
    "            self.encendida = estado\n",
    "        else:\n",
    "            raise ValueError(\"El estado debe ser 0 (apagado) o 1 (encendido).\")\n",
    "    \n",
    "    def estado(self):\n",
    "        \"\"\"Devuelve el estado actual de la lamparita.\"\"\"\n",
    "        return \"Encendida\" if self.encendida == 1 else \"Apagada\"\n",
    "\n",
    "# Ejemplo de uso:\n",
    "lampara = Lamparita()\n",
    "print(lampara.estado())  # Apagada\n",
    "lampara.set_estado(1)\n",
    "print(lampara.estado())  # Encendida\n",
    "lampara.set_estado(0)\n",
    "print(lampara.estado())  # Apagada\n"
   ]
  },
  {
   "cell_type": "markdown",
   "metadata": {},
   "source": [
    "## Ejercicio 2"
   ]
  },
  {
   "cell_type": "markdown",
   "metadata": {},
   "source": [
    "Implemente una clase Monedero que permita gestionar la cantidad de dinero que\n",
    "una persona dispone en un momento dado. La clase deberá tener un constructor\n",
    "que permitirá crear un monedero con una cantidad de dinero inicial y deberá\n",
    "definir un método para meter dinero en el monedero, otro para sacarlo y\n",
    "finalmente, otro para consultar el disponible; solo podrá conocerse la cantidad de\n",
    "dinero del monedero a través de este último método. Por supuesto, no se podrá\n",
    "sacar más dinero del que haya en un momento dado en el monedero."
   ]
  },
  {
   "cell_type": "code",
   "execution_count": 7,
   "metadata": {},
   "outputs": [
    {
     "name": "stdout",
     "output_type": "stream",
     "text": [
      "100\n",
      "150\n",
      "Fondos insuficientes en el monedero.\n",
      "150\n"
     ]
    }
   ],
   "source": [
    "class Monedero:\n",
    "    def __init__(self, saldo_inicial=0):\n",
    "        \"\"\"Inicializa el monedero con un saldo inicial.\"\"\"\n",
    "        if saldo_inicial < 0:\n",
    "            raise ValueError(\"El saldo inicial no puede ser negativo.\")\n",
    "        self.__saldo = saldo_inicial  # Atributo privado para evitar acceso directo\n",
    "    \n",
    "    def meter_dinero(self, cantidad):\n",
    "        \"\"\"Añade dinero al monedero.\"\"\"\n",
    "        if cantidad > 0:\n",
    "            self.__saldo += cantidad\n",
    "        else:\n",
    "            raise ValueError(\"La cantidad a ingresar debe ser positiva.\")\n",
    "    \n",
    "    def sacar_dinero(self, cantidad):\n",
    "        \"\"\"Saca dinero del monedero si hay suficiente saldo.\"\"\"\n",
    "        if cantidad > 0:\n",
    "            if cantidad <= self.__saldo:\n",
    "                self.__saldo -= cantidad\n",
    "            else:\n",
    "                print(\"Fondoss insuficientes en el monedero.\")\n",
    "        else:\n",
    "            raise ValueError(\"La cantidad a retirar debe ser positiva.\")\n",
    "    \n",
    "    def consultar_saldo(self):\n",
    "        \"\"\"Devuelve el saldo actual del monedero.\"\"\"\n",
    "        return self.__saldo\n",
    "        \n",
    "# Ejemplo de uso:\n",
    "monedero = Monedero(100)\n",
    "print(monedero.consultar_saldo())  # 100\n",
    "monedero.meter_dinero(50)\n",
    "print(monedero.consultar_saldo())  # 150\n",
    "monedero.sacar_dinero(200)\n",
    "print(monedero.consultar_saldo())  # 120\n"
   ]
  },
  {
   "cell_type": "markdown",
   "metadata": {},
   "source": [
    "## Ejercicio 3"
   ]
  },
  {
   "cell_type": "markdown",
   "metadata": {},
   "source": [
    "\n",
    "Una cadena de restaurantes llamada \"Delicioso Sabor\" desea implementar un sistema de gestión de pedidos\n",
    "automatizado para mejorar la eficiencia en el manejo de sus ventas y optimizar el control de su inventario.\n",
    "Requerimientos del Sistema:\n",
    "1. Clase Producto:\n",
    "* Cada producto en el menú del restaurante debe ser representado por la clase Producto.\n",
    "* Los productos deben tener un nombre, precio unitario y cantidad inicial en stock.\n",
    "* Se debe poder actualizar la cantidad en stock de cada producto conforme se realicen pedidos.\n",
    "2. Clase Pedido:\n",
    "* La clase Pedido debe registrar los detalles de cada pedido realizado por los clientes.\n",
    "* Cada pedido debe contener un número único de identificación, una lista de productos solicitados y su\n",
    "estado actual.\n",
    "* Se debe calcular el costo total del pedido, aplicando un descuento global del 10% por defecto.\n",
    "* Se debe poder actualizar el estado de los pedidos a medida que progresan en su preparación y\n",
    "entrega"
   ]
  },
  {
   "cell_type": "code",
   "execution_count": 8,
   "metadata": {},
   "outputs": [],
   "source": [
    "class Producto: \n",
    "    cant_prod = 0\n",
    "    def __init__(self,nombre, precio_u, cant_inicial):\n",
    "        self.nombre = nombre\n",
    "        self.precio_u = precio_u\n",
    "        self.cant_inicial = cant_inicial\n",
    "        "
   ]
  },
  {
   "cell_type": "code",
   "execution_count": null,
   "metadata": {},
   "outputs": [],
   "source": [
    "class Pedido:\n",
    "    def __init__(self, n_unico,lista_solicitado,estado_actual):\n",
    "        self.n_unico = n_unico\n",
    "        self.lista_solicitado = lista_solicitado\n",
    "        self.estado_actual = estado_actual\n",
    "    \n",
    "    def costo_total()"
   ]
  },
  {
   "cell_type": "code",
   "execution_count": null,
   "metadata": {},
   "outputs": [],
   "source": []
  }
 ],
 "metadata": {
  "kernelspec": {
   "display_name": "Python 3",
   "language": "python",
   "name": "python3"
  },
  "language_info": {
   "codemirror_mode": {
    "name": "ipython",
    "version": 3
   },
   "file_extension": ".py",
   "mimetype": "text/x-python",
   "name": "python",
   "nbconvert_exporter": "python",
   "pygments_lexer": "ipython3",
   "version": "3.12.6"
  }
 },
 "nbformat": 4,
 "nbformat_minor": 2
}
